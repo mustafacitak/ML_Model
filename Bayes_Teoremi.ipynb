{
 "cells": [
  {
   "cell_type": "code",
   "execution_count": 1,
   "id": "b09839fe",
   "metadata": {},
   "outputs": [
    {
     "name": "stdout",
     "output_type": "stream",
     "text": [
      "Hastanın hasta olma olasılığı: 0.8461538461538461\n"
     ]
    }
   ],
   "source": [
    "# Bayes teoremi ile hastanın hasta olma olasılığını hesaplayalım\n",
    "P_B_A = 0.99  # pozitif test sonucunun hasta olan kişilerde doğruluk oranı\n",
    "P_A = 0.1  # hasta olma oranı\n",
    "P_B_A_ = 0.02  # pozitif test sonucunun hasta olmayan kişilerde doğruluk oranı\n",
    "P_A_ = 0.9  # hasta olmama oranı\n",
    "\n",
    "# Bayes teoremi ile hastanın hasta olma olasılığını hesaplayalım\n",
    "P_A_B = (P_B_A * P_A) / (P_B_A * P_A + P_B_A_ * P_A_)\n",
    "print(\"Hastanın hasta olma olasılığı:\", P_A_B)"
   ]
  }
 ],
 "metadata": {
  "kernelspec": {
   "display_name": "Python 3 (ipykernel)",
   "language": "python",
   "name": "python3"
  },
  "language_info": {
   "codemirror_mode": {
    "name": "ipython",
    "version": 3
   },
   "file_extension": ".py",
   "mimetype": "text/x-python",
   "name": "python",
   "nbconvert_exporter": "python",
   "pygments_lexer": "ipython3",
   "version": "3.11.5"
  }
 },
 "nbformat": 4,
 "nbformat_minor": 5
}
