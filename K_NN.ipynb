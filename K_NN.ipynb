{
 "cells": [
  {
   "cell_type": "code",
   "execution_count": null,
   "id": "e879bc32",
   "metadata": {},
   "outputs": [],
   "source": [
    "from sklearn.datasets import load_iris\n",
    "import pandas as pd\n",
    "import numpy as np\n",
    "\n",
    "# Iris veri setini yükle\n",
    "iris = load_iris()\n",
    "df = pd.DataFrame(data=iris.data, columns=iris.feature_names)\n",
    "\n",
    "# Veri setinin ilk 10 satırını ve sütun isimlerini yazdır\n",
    "print(df.head(10))\n",
    "print(\"\\n\")\n",
    "\n",
    "\n",
    "from sklearn.model_selection import train_test_split\n",
    "\n",
    "# Veri setini eğitim ve test setlerine ayır\n",
    "X_train, X_test, y_train, y_test = train_test_split(iris.data, iris.target, test_size=0.2, random_state=42)\n",
    "\n",
    "from sklearn.neighbors import KNeighborsClassifier\n",
    "from sklearn.metrics import accuracy_score\n",
    "\n",
    "# K-NN modelini oluştur ve eğit\n",
    "model = KNeighborsClassifier(n_neighbors=2)\n",
    "model.fit(X_train, y_train)\n",
    "\n",
    "# Modeli test et ve performansını değerlendir\n",
    "y_pred = model.predict(X_test)\n",
    "accuracy = accuracy_score(y_test, y_pred)\n",
    "print(f'Model Accuracy: {accuracy * 100}%')\n",
    "print(\"\\n\")\n",
    "\n",
    "# \"Sepallength: 5.0 cm, Sepalwidth: 3.5 cm, Petallength: 1.5 cm, Petalwidth: 0.2 cm\" değerlerini bir NumPy dizisi olarak tanımla\n",
    "\n",
    "new_flower = np.array([[5.0, 3.5, 1.5, 0.2]])\n",
    "\n",
    "# Tahmin yap\n",
    "predicted_class = model.predict(new_flower)\n",
    "\n",
    "# Tahmin edilen sınıf etiketini sınıf adına dönüştür\n",
    "predicted_class_name = iris.target_names[predicted_class[0]]\n",
    "\n",
    "# Sonucu yazdır\n",
    "print(f'Predicted Class: {predicted_class_name}')"
   ]
  }
 ],
 "metadata": {
  "kernelspec": {
   "display_name": "Python 3 (ipykernel)",
   "language": "python",
   "name": "python3"
  },
  "language_info": {
   "codemirror_mode": {
    "name": "ipython",
    "version": 3
   },
   "file_extension": ".py",
   "mimetype": "text/x-python",
   "name": "python",
   "nbconvert_exporter": "python",
   "pygments_lexer": "ipython3",
   "version": "3.11.5"
  }
 },
 "nbformat": 4,
 "nbformat_minor": 5
}
